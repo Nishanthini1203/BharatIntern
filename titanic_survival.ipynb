{
  "nbformat": 4,
  "nbformat_minor": 0,
  "metadata": {
    "kernelspec": {
      "display_name": "Python 3",
      "language": "python",
      "name": "python3"
    },
    "language_info": {
      "codemirror_mode": {
        "name": "ipython",
        "version": 3
      },
      "file_extension": ".py",
      "mimetype": "text/x-python",
      "name": "python",
      "nbconvert_exporter": "python",
      "pygments_lexer": "ipython3",
      "version": "3.6.6"
    },
    "colab": {
      "provenance": [],
      "collapsed_sections": [
        "uNEaYNcX6dw7",
        "grfXEA6a6dxW"
      ]
    }
  },
  "cells": [
    {
      "cell_type": "markdown",
      "metadata": {
        "_uuid": "b5a9e650ed4ee4bcb942881e39476de033684e8f",
        "id": "Cn4JKuAq6dwE"
      },
      "source": [
        "<a id=\"p1\"></a>\n",
        "# 1. Importing Libraries and Packages\n",
        "We will use these packages to help us manipulate the data and visualize the features/labels as well as measure how well our model performed. Numpy and Pandas are helpful for manipulating the dataframe and its columns and cells. We will use matplotlib along with Seaborn to visualize our data."
      ]
    },
    {
      "cell_type": "code",
      "metadata": {
        "_cell_guid": "b1076dfc-b9ad-4769-8c92-a6c4dae69d19",
        "_uuid": "8f2839f25d086af736a60e9eeb907d3b93b6e0e5",
        "id": "0NcvPNm16dwF"
      },
      "source": [
        "import numpy as np\n",
        "import pandas as pd\n",
        "\n",
        "import seaborn as sns\n",
        "from matplotlib import pyplot as plt\n",
        "%matplotlib inline\n",
        "sns.set_style(\"whitegrid\")\n",
        "\n",
        "import warnings\n",
        "warnings.filterwarnings(\"ignore\")"
      ],
      "execution_count": 2,
      "outputs": []
    },
    {
      "cell_type": "markdown",
      "metadata": {
        "_uuid": "9b574000bd7d01fc11bd1a2a129512c420ae9d60",
        "id": "Cu9hJxYs6dwH"
      },
      "source": [
        "<a id=\"p2\"></a>\n",
        "# 2. Loading and Viewing Data Set\n",
        "With Pandas, we can load both the training and testing set that we wil later use to train and test our model. Before we begin, we should take a look at our data table to see the values that we'll be working with. We can use the head and describe function to look at some sample data and statistics. We can also look at its keys and column names."
      ]
    },
    {
      "cell_type": "code",
      "metadata": {
        "_cell_guid": "79c7e3d0-c299-4dcb-8224-4455121ee9b0",
        "_uuid": "d629ff2d2480ee46fbb7e2d37f6b5fab8052498a",
        "scrolled": true,
        "id": "c_9i2phM6dwI"
      },
      "source": [
        "training = pd.read_csv(\"/content/train.csv\")\n",
        "testing = pd.read_csv(\"/content/test.csv\")\n"
      ],
      "execution_count": 4,
      "outputs": []
    },
    {
      "cell_type": "code",
      "metadata": {
        "_uuid": "17d595b96b41eecfaeb9185bca85c7b5abd8d2a1",
        "id": "S82Gr5F96dwJ",
        "colab": {
          "base_uri": "https://localhost:8080/",
          "height": 195
        },
        "outputId": "8c303a8d-412c-4b6d-cdcc-5a4d2f390698"
      },
      "source": [
        "training.head()"
      ],
      "execution_count": null,
      "outputs": [
        {
          "output_type": "execute_result",
          "data": {
            "text/html": [
              "<div>\n",
              "<style scoped>\n",
              "    .dataframe tbody tr th:only-of-type {\n",
              "        vertical-align: middle;\n",
              "    }\n",
              "\n",
              "    .dataframe tbody tr th {\n",
              "        vertical-align: top;\n",
              "    }\n",
              "\n",
              "    .dataframe thead th {\n",
              "        text-align: right;\n",
              "    }\n",
              "</style>\n",
              "<table border=\"1\" class=\"dataframe\">\n",
              "  <thead>\n",
              "    <tr style=\"text-align: right;\">\n",
              "      <th></th>\n",
              "      <th>PassengerId</th>\n",
              "      <th>Survived</th>\n",
              "      <th>Pclass</th>\n",
              "      <th>Name</th>\n",
              "      <th>Sex</th>\n",
              "      <th>Age</th>\n",
              "      <th>SibSp</th>\n",
              "      <th>Parch</th>\n",
              "      <th>Ticket</th>\n",
              "      <th>Fare</th>\n",
              "      <th>Cabin</th>\n",
              "      <th>Embarked</th>\n",
              "    </tr>\n",
              "  </thead>\n",
              "  <tbody>\n",
              "    <tr>\n",
              "      <th>0</th>\n",
              "      <td>1</td>\n",
              "      <td>0</td>\n",
              "      <td>3</td>\n",
              "      <td>Braund, Mr. Owen Harris</td>\n",
              "      <td>male</td>\n",
              "      <td>22.0</td>\n",
              "      <td>1</td>\n",
              "      <td>0</td>\n",
              "      <td>A/5 21171</td>\n",
              "      <td>7.2500</td>\n",
              "      <td>NaN</td>\n",
              "      <td>S</td>\n",
              "    </tr>\n",
              "    <tr>\n",
              "      <th>1</th>\n",
              "      <td>2</td>\n",
              "      <td>1</td>\n",
              "      <td>1</td>\n",
              "      <td>Cumings, Mrs. John Bradley (Florence Briggs Th...</td>\n",
              "      <td>female</td>\n",
              "      <td>38.0</td>\n",
              "      <td>1</td>\n",
              "      <td>0</td>\n",
              "      <td>PC 17599</td>\n",
              "      <td>71.2833</td>\n",
              "      <td>C85</td>\n",
              "      <td>C</td>\n",
              "    </tr>\n",
              "    <tr>\n",
              "      <th>2</th>\n",
              "      <td>3</td>\n",
              "      <td>1</td>\n",
              "      <td>3</td>\n",
              "      <td>Heikkinen, Miss. Laina</td>\n",
              "      <td>female</td>\n",
              "      <td>26.0</td>\n",
              "      <td>0</td>\n",
              "      <td>0</td>\n",
              "      <td>STON/O2. 3101282</td>\n",
              "      <td>7.9250</td>\n",
              "      <td>NaN</td>\n",
              "      <td>S</td>\n",
              "    </tr>\n",
              "    <tr>\n",
              "      <th>3</th>\n",
              "      <td>4</td>\n",
              "      <td>1</td>\n",
              "      <td>1</td>\n",
              "      <td>Futrelle, Mrs. Jacques Heath (Lily May Peel)</td>\n",
              "      <td>female</td>\n",
              "      <td>35.0</td>\n",
              "      <td>1</td>\n",
              "      <td>0</td>\n",
              "      <td>113803</td>\n",
              "      <td>53.1000</td>\n",
              "      <td>C123</td>\n",
              "      <td>S</td>\n",
              "    </tr>\n",
              "    <tr>\n",
              "      <th>4</th>\n",
              "      <td>5</td>\n",
              "      <td>0</td>\n",
              "      <td>3</td>\n",
              "      <td>Allen, Mr. William Henry</td>\n",
              "      <td>male</td>\n",
              "      <td>35.0</td>\n",
              "      <td>0</td>\n",
              "      <td>0</td>\n",
              "      <td>373450</td>\n",
              "      <td>8.0500</td>\n",
              "      <td>NaN</td>\n",
              "      <td>S</td>\n",
              "    </tr>\n",
              "  </tbody>\n",
              "</table>\n",
              "</div>"
            ],
            "text/plain": [
              "   PassengerId  Survived  Pclass  ...     Fare Cabin  Embarked\n",
              "0            1         0       3  ...   7.2500   NaN         S\n",
              "1            2         1       1  ...  71.2833   C85         C\n",
              "2            3         1       3  ...   7.9250   NaN         S\n",
              "3            4         1       1  ...  53.1000  C123         S\n",
              "4            5         0       3  ...   8.0500   NaN         S\n",
              "\n",
              "[5 rows x 12 columns]"
            ]
          },
          "metadata": {
            "tags": []
          },
          "execution_count": 3
        }
      ]
    },
    {
      "cell_type": "code",
      "metadata": {
        "_uuid": "ea5cc5601d9989c520b8269f0d3434fd4b7c4128",
        "id": "lVX4qadu6dwM",
        "colab": {
          "base_uri": "https://localhost:8080/",
          "height": 284
        },
        "outputId": "92a90b18-b7c3-474e-f178-f1658a9ae126"
      },
      "source": [
        "training.describe()"
      ],
      "execution_count": null,
      "outputs": [
        {
          "output_type": "execute_result",
          "data": {
            "text/html": [
              "<div>\n",
              "<style scoped>\n",
              "    .dataframe tbody tr th:only-of-type {\n",
              "        vertical-align: middle;\n",
              "    }\n",
              "\n",
              "    .dataframe tbody tr th {\n",
              "        vertical-align: top;\n",
              "    }\n",
              "\n",
              "    .dataframe thead th {\n",
              "        text-align: right;\n",
              "    }\n",
              "</style>\n",
              "<table border=\"1\" class=\"dataframe\">\n",
              "  <thead>\n",
              "    <tr style=\"text-align: right;\">\n",
              "      <th></th>\n",
              "      <th>PassengerId</th>\n",
              "      <th>Survived</th>\n",
              "      <th>Pclass</th>\n",
              "      <th>Age</th>\n",
              "      <th>SibSp</th>\n",
              "      <th>Parch</th>\n",
              "      <th>Fare</th>\n",
              "    </tr>\n",
              "  </thead>\n",
              "  <tbody>\n",
              "    <tr>\n",
              "      <th>count</th>\n",
              "      <td>891.000000</td>\n",
              "      <td>891.000000</td>\n",
              "      <td>891.000000</td>\n",
              "      <td>714.000000</td>\n",
              "      <td>891.000000</td>\n",
              "      <td>891.000000</td>\n",
              "      <td>891.000000</td>\n",
              "    </tr>\n",
              "    <tr>\n",
              "      <th>mean</th>\n",
              "      <td>446.000000</td>\n",
              "      <td>0.383838</td>\n",
              "      <td>2.308642</td>\n",
              "      <td>29.699118</td>\n",
              "      <td>0.523008</td>\n",
              "      <td>0.381594</td>\n",
              "      <td>32.204208</td>\n",
              "    </tr>\n",
              "    <tr>\n",
              "      <th>std</th>\n",
              "      <td>257.353842</td>\n",
              "      <td>0.486592</td>\n",
              "      <td>0.836071</td>\n",
              "      <td>14.526497</td>\n",
              "      <td>1.102743</td>\n",
              "      <td>0.806057</td>\n",
              "      <td>49.693429</td>\n",
              "    </tr>\n",
              "    <tr>\n",
              "      <th>min</th>\n",
              "      <td>1.000000</td>\n",
              "      <td>0.000000</td>\n",
              "      <td>1.000000</td>\n",
              "      <td>0.420000</td>\n",
              "      <td>0.000000</td>\n",
              "      <td>0.000000</td>\n",
              "      <td>0.000000</td>\n",
              "    </tr>\n",
              "    <tr>\n",
              "      <th>25%</th>\n",
              "      <td>223.500000</td>\n",
              "      <td>0.000000</td>\n",
              "      <td>2.000000</td>\n",
              "      <td>20.125000</td>\n",
              "      <td>0.000000</td>\n",
              "      <td>0.000000</td>\n",
              "      <td>7.910400</td>\n",
              "    </tr>\n",
              "    <tr>\n",
              "      <th>50%</th>\n",
              "      <td>446.000000</td>\n",
              "      <td>0.000000</td>\n",
              "      <td>3.000000</td>\n",
              "      <td>28.000000</td>\n",
              "      <td>0.000000</td>\n",
              "      <td>0.000000</td>\n",
              "      <td>14.454200</td>\n",
              "    </tr>\n",
              "    <tr>\n",
              "      <th>75%</th>\n",
              "      <td>668.500000</td>\n",
              "      <td>1.000000</td>\n",
              "      <td>3.000000</td>\n",
              "      <td>38.000000</td>\n",
              "      <td>1.000000</td>\n",
              "      <td>0.000000</td>\n",
              "      <td>31.000000</td>\n",
              "    </tr>\n",
              "    <tr>\n",
              "      <th>max</th>\n",
              "      <td>891.000000</td>\n",
              "      <td>1.000000</td>\n",
              "      <td>3.000000</td>\n",
              "      <td>80.000000</td>\n",
              "      <td>8.000000</td>\n",
              "      <td>6.000000</td>\n",
              "      <td>512.329200</td>\n",
              "    </tr>\n",
              "  </tbody>\n",
              "</table>\n",
              "</div>"
            ],
            "text/plain": [
              "       PassengerId    Survived      Pclass  ...       SibSp       Parch        Fare\n",
              "count   891.000000  891.000000  891.000000  ...  891.000000  891.000000  891.000000\n",
              "mean    446.000000    0.383838    2.308642  ...    0.523008    0.381594   32.204208\n",
              "std     257.353842    0.486592    0.836071  ...    1.102743    0.806057   49.693429\n",
              "min       1.000000    0.000000    1.000000  ...    0.000000    0.000000    0.000000\n",
              "25%     223.500000    0.000000    2.000000  ...    0.000000    0.000000    7.910400\n",
              "50%     446.000000    0.000000    3.000000  ...    0.000000    0.000000   14.454200\n",
              "75%     668.500000    1.000000    3.000000  ...    1.000000    0.000000   31.000000\n",
              "max     891.000000    1.000000    3.000000  ...    8.000000    6.000000  512.329200\n",
              "\n",
              "[8 rows x 7 columns]"
            ]
          },
          "metadata": {
            "tags": []
          },
          "execution_count": 4
        }
      ]
    },
    {
      "cell_type": "code",
      "metadata": {
        "_uuid": "3d25ce4c089559faf5ab3b78667e6201a62e57da",
        "id": "mlnVGVlQ6dwN",
        "colab": {
          "base_uri": "https://localhost:8080/",
          "height": 118
        },
        "outputId": "9b986ed3-7ee5-4312-c9d4-1572a91c7014"
      },
      "source": [
        "print(training.keys())\n",
        "print(testing.keys())"
      ],
      "execution_count": null,
      "outputs": [
        {
          "output_type": "stream",
          "text": [
            "Index(['PassengerId', 'Survived', 'Pclass', 'Name', 'Sex', 'Age', 'SibSp',\n",
            "       'Parch', 'Ticket', 'Fare', 'Cabin', 'Embarked'],\n",
            "      dtype='object')\n",
            "Index(['PassengerId', 'Pclass', 'Name', 'Sex', 'Age', 'SibSp', 'Parch',\n",
            "       'Ticket', 'Fare', 'Cabin', 'Embarked'],\n",
            "      dtype='object')\n"
          ],
          "name": "stdout"
        }
      ]
    },
    {
      "cell_type": "markdown",
      "metadata": {
        "_uuid": "e6d7efeb33bee9b004b0a309c21feb9c90bde389",
        "id": "aVpTfbpe6dwP"
      },
      "source": [
        "<a id=\"p3\"></a>\n",
        "# 3. Dealing with NaN Values (Imputation)\n",
        "There are NaN values in our data set in the age column. Furthermore, the Cabin column has too many missing values and isn't useful to be used in predicting survival. We can just drop the column as well as the NaN values which will get in the way of training our model. We also need to fill in the NaN values with replacement values in order for the model to have a complete prediction for every row in the data set. This process is known as **imputation** and we will show how to replace the missing data."
      ]
    },
    {
      "cell_type": "code",
      "metadata": {
        "_uuid": "fc61dad51cca67aafca7447fb02b58d8bbb2a226",
        "scrolled": true,
        "id": "uBwePb436dwQ",
        "colab": {
          "base_uri": "https://localhost:8080/",
          "height": 487
        },
        "outputId": "fb293286-1ce5-4baa-e0ee-118a07f3a323"
      },
      "source": [
        "def null_table(training, testing):\n",
        "    print(\"Training Data Frame\")\n",
        "    print(pd.isnull(training).sum())\n",
        "    print(\" \")\n",
        "    print(\"Testing Data Frame\")\n",
        "    print(pd.isnull(testing).sum())\n",
        "\n",
        "null_table(training, testing)"
      ],
      "execution_count": null,
      "outputs": [
        {
          "output_type": "stream",
          "text": [
            "Training Data Frame\n",
            "PassengerId      0\n",
            "Survived         0\n",
            "Pclass           0\n",
            "Name             0\n",
            "Sex              0\n",
            "Age            177\n",
            "SibSp            0\n",
            "Parch            0\n",
            "Ticket           0\n",
            "Fare             0\n",
            "Cabin          687\n",
            "Embarked         2\n",
            "dtype: int64\n",
            " \n",
            "Testing Data Frame\n",
            "PassengerId      0\n",
            "Pclass           0\n",
            "Name             0\n",
            "Sex              0\n",
            "Age             86\n",
            "SibSp            0\n",
            "Parch            0\n",
            "Ticket           0\n",
            "Fare             1\n",
            "Cabin          327\n",
            "Embarked         0\n",
            "dtype: int64\n"
          ],
          "name": "stdout"
        }
      ]
    },
    {
      "cell_type": "code",
      "metadata": {
        "_uuid": "4dfb986a769ce38cb258a3e8f0fc2b4c9490612f",
        "id": "8RL6Mln06dwR",
        "colab": {
          "base_uri": "https://localhost:8080/",
          "height": 420
        },
        "outputId": "34891a30-4c59-4325-fe12-9dd792421518"
      },
      "source": [
        "training.drop(labels = [\"Cabin\", \"Ticket\"], axis = 1, inplace = True)\n",
        "testing.drop(labels = [\"Cabin\", \"Ticket\"], axis = 1, inplace = True)\n",
        "\n",
        "null_table(training, testing)"
      ],
      "execution_count": null,
      "outputs": [
        {
          "output_type": "stream",
          "text": [
            "Training Data Frame\n",
            "PassengerId      0\n",
            "Survived         0\n",
            "Pclass           0\n",
            "Name             0\n",
            "Sex              0\n",
            "Age            177\n",
            "SibSp            0\n",
            "Parch            0\n",
            "Fare             0\n",
            "Embarked         2\n",
            "dtype: int64\n",
            " \n",
            "Testing Data Frame\n",
            "PassengerId     0\n",
            "Pclass          0\n",
            "Name            0\n",
            "Sex             0\n",
            "Age            86\n",
            "SibSp           0\n",
            "Parch           0\n",
            "Fare            1\n",
            "Embarked        0\n",
            "dtype: int64\n"
          ],
          "name": "stdout"
        }
      ]
    },
    {
      "cell_type": "markdown",
      "metadata": {
        "_uuid": "b8cd1cb47f574b46b2058f2e3635d034ce9a57e5",
        "id": "cP9-Qi-J6dwT"
      },
      "source": [
        "We take a look at the distribution of the Age column to see if it's skewed or symmetrical. This will help us determine what value to replace the NaN values."
      ]
    },
    {
      "cell_type": "code",
      "metadata": {
        "_uuid": "b791d174a23371a6a9748906771189bf45051ff2",
        "id": "DnlX0JJI6dwT",
        "colab": {
          "base_uri": "https://localhost:8080/",
          "height": 296
        },
        "outputId": "317786bc-8918-4d1c-b412-876f4b116427"
      },
      "source": [
        "copy = training.copy()\n",
        "copy.dropna(inplace = True)\n",
        "sns.distplot(copy[\"Age\"])"
      ],
      "execution_count": null,
      "outputs": [
        {
          "output_type": "execute_result",
          "data": {
            "text/plain": [
              "<matplotlib.axes._subplots.AxesSubplot at 0x7f950830e3c8>"
            ]
          },
          "metadata": {
            "tags": []
          },
          "execution_count": 8
        },
        {
          "output_type": "display_data",
          "data": {
            "image/png": "[encoded data removed]",
            "text/plain": [
              "<Figure size 432x288 with 1 Axes>"
            ]
          },
          "metadata": {
            "tags": []
          }
        }
      ]
    },
    {
      "cell_type": "markdown",
      "metadata": {
        "_uuid": "c04adcb431b42cb574ee0741fdb86925b83863ff",
        "id": "4ccTVxle6dwV"
      },
      "source": [
        "* Looks like the distribution of ages is slightly skewed right. Because of this, we can fill in the null values with the median for the most accuracy."
      ]
    },
    {
      "cell_type": "code",
      "metadata": {
        "_uuid": "dfa607948743e80892fdf82a000c7a96873d38ce",
        "id": "0_YumH9G6dwW",
        "colab": {
          "base_uri": "https://localhost:8080/",
          "height": 420
        },
        "outputId": "001f124f-80bb-4a3e-eda9-a5812512ad5a"
      },
      "source": [
        "#the median will be an acceptable value to place in the NaN cells\n",
        "training[\"Age\"].fillna(training[\"Age\"].median(), inplace = True)\n",
        "testing[\"Age\"].fillna(testing[\"Age\"].median(), inplace = True)\n",
        "training[\"Embarked\"].fillna(\"S\", inplace = True)\n",
        "testing[\"Fare\"].fillna(testing[\"Fare\"].median(), inplace = True)\n",
        "\n",
        "null_table(training, testing)\n"
      ],
      "execution_count": null,
      "outputs": [
        {
          "output_type": "stream",
          "text": [
            "Training Data Frame\n",
            "PassengerId    0\n",
            "Survived       0\n",
            "Pclass         0\n",
            "Name           0\n",
            "Sex            0\n",
            "Age            0\n",
            "SibSp          0\n",
            "Parch          0\n",
            "Fare           0\n",
            "Embarked       0\n",
            "dtype: int64\n",
            " \n",
            "Testing Data Frame\n",
            "PassengerId    0\n",
            "Pclass         0\n",
            "Name           0\n",
            "Sex            0\n",
            "Age            0\n",
            "SibSp          0\n",
            "Parch          0\n",
            "Fare           0\n",
            "Embarked       0\n",
            "dtype: int64\n"
          ],
          "name": "stdout"
        }
      ]
    },
    {
      "cell_type": "markdown",
      "metadata": {
        "_uuid": "8ae1ecf061805ccaf6663b50bf4c21252f4195a4",
        "id": "TjBnLEDL6dwX"
      },
      "source": [
        "<a id=\"p4\"></a>\n",
        "# 4. Plotting and Visualizing Data\n",
        "It is very important to understand and visualize any data we are going to use in a machine learning model. By visualizing, we can see the trends and general associations of variables like Sex and Age with survival rate. We can make several different graphs for each feature we want to work with to see the entropy and information gain of the feature."
      ]
    },
    {
      "cell_type": "markdown",
      "metadata": {
        "_uuid": "14ac153fd1d8992bed821c28532da3dd99a3ce2d",
        "id": "7P54B-Na6dwY"
      },
      "source": [
        "**Gender**"
      ]
    },
    {
      "cell_type": "code",
      "metadata": {
        "_uuid": "a313f660ca8133f5c625814a6c599f5c527a9b22",
        "id": "xaCKUzC86dwY",
        "colab": {
          "base_uri": "https://localhost:8080/",
          "height": 379
        },
        "outputId": "b3aaad06-5237-4315-839f-2b7b9a0295f3"
      },
      "source": [
        "#can ignore the testing set for now\n",
        "sns.barplot(x=\"Sex\", y=\"Survived\", data=training)\n",
        "plt.title(\"Distribution of Survival based on Gender\")\n",
        "plt.show()\n",
        "\n",
        "total_survived_females = training[training.Sex == \"female\"][\"Survived\"].sum()\n",
        "total_survived_males = training[training.Sex == \"male\"][\"Survived\"].sum()\n",
        "\n",
        "print(\"Total people survived is: \" + str((total_survived_females + total_survived_males)))\n",
        "print(\"Proportion of Females who survived:\")\n",
        "print(total_survived_females/(total_survived_females + total_survived_males))\n",
        "print(\"Proportion of Males who survived:\")\n",
        "print(total_survived_males/(total_survived_females + total_survived_males))"
      ],
      "execution_count": null,
      "outputs": [
        {
          "output_type": "display_data",
          "data": {
            "image/png": "[encoded data removed]",
            "text/plain": [
              "<Figure size 432x288 with 1 Axes>"
            ]
          },
          "metadata": {
            "tags": []
          }
        },
        {
          "output_type": "stream",
          "text": [
            "Total people survived is: 342\n",
            "Proportion of Females who survived:\n",
            "0.6812865497076024\n",
            "Proportion of Males who survived:\n",
            "0.31871345029239767\n"
          ],
          "name": "stdout"
        }
      ]
    },
    {
      "cell_type": "markdown",
      "metadata": {
        "_uuid": "e924d85d07f0da76ad085c5ca8f26172a80ad987",
        "id": "B8j8RO_z6dwa"
      },
      "source": [
        "> Note that the numbers printed above are the proportion of male/female survivors of all the surviviors ONLY. The graph shows the propotion of male/females out of ALL the passengers including those that didn't survive."
      ]
    },
    {
      "cell_type": "markdown",
      "metadata": {
        "_uuid": "69f48dadbaa468414c542c74af8bfe98a68ec20d",
        "id": "AVD2f4UU6dwa"
      },
      "source": [
        "Gender appears to be a very good feature to use to predict survival, as shown by the large difference in propotion survived. Let's take a look at how class plays a role in survival as well."
      ]
    },
    {
      "cell_type": "markdown",
      "metadata": {
        "_uuid": "8479cb62de593c2945b112b645a527be7aa776f3",
        "id": "h5YB5bhD6dwb"
      },
      "source": [
        "**Class**"
      ]
    },
    {
      "cell_type": "code",
      "metadata": {
        "_uuid": "d55d78e57c418f2ea9f57c6ae649dc9f044ef553",
        "id": "Ra4_UXFj6dwb",
        "colab": {
          "base_uri": "https://localhost:8080/",
          "height": 413
        },
        "outputId": "f3e103fd-32ec-45ac-f57b-281daed50623"
      },
      "source": [
        "sns.barplot(x=\"Pclass\", y=\"Survived\", data=training)\n",
        "plt.ylabel(\"Survival Rate\")\n",
        "plt.title(\"Distribution of Survival Based on Class\")\n",
        "plt.show()\n",
        "\n",
        "total_survived_one = training[training.Pclass == 1][\"Survived\"].sum()\n",
        "total_survived_two = training[training.Pclass == 2][\"Survived\"].sum()\n",
        "total_survived_three = training[training.Pclass == 3][\"Survived\"].sum()\n",
        "total_survived_class = total_survived_one + total_survived_two + total_survived_three\n",
        "\n",
        "print(\"Total people survived is: \" + str(total_survived_class))\n",
        "print(\"Proportion of Class 1 Passengers who survived:\")\n",
        "print(total_survived_one/total_survived_class)\n",
        "print(\"Proportion of Class 2 Passengers who survived:\")\n",
        "print(total_survived_two/total_survived_class)\n",
        "print(\"Proportion of Class 3 Passengers who survived:\")\n",
        "print(total_survived_three/total_survived_class)"
      ],
      "execution_count": null,
      "outputs": [
        {
          "output_type": "display_data",
          "data": {
            "image/png": "[encoded data removed]",
            "text/plain": [
              "<Figure size 432x288 with 1 Axes>"
            ]
          },
          "metadata": {
            "tags": []
          }
        },
        {
          "output_type": "stream",
          "text": [
            "Total people survived is: 342\n",
            "Proportion of Class 1 Passengers who survived:\n",
            "0.39766081871345027\n",
            "Proportion of Class 2 Passengers who survived:\n",
            "0.2543859649122807\n",
            "Proportion of Class 3 Passengers who survived:\n",
            "0.347953216374269\n"
          ],
          "name": "stdout"
        }
      ]
    },
    {
      "cell_type": "code",
      "metadata": {
        "_uuid": "205515b33d6dd0962cab4fb825caa45c77e5ec12",
        "id": "PMJupoSn6dwd",
        "colab": {
          "base_uri": "https://localhost:8080/",
          "height": 312
        },
        "outputId": "037a353e-b2ff-42cc-c2c5-1ecf957886a6"
      },
      "source": [
        "sns.barplot(x=\"Pclass\", y=\"Survived\", hue=\"Sex\", data=training)\n",
        "plt.ylabel(\"Survival Rate\")\n",
        "plt.title(\"Survival Rates Based on Gender and Class\")\n",
        "#help(sns.barplot)"
      ],
      "execution_count": null,
      "outputs": [
        {
          "output_type": "execute_result",
          "data": {
            "text/plain": [
              "Text(0.5, 1.0, 'Survival Rates Based on Gender and Class')"
            ]
          },
          "metadata": {
            "tags": []
          },
          "execution_count": 12
        },
        {
          "output_type": "display_data",
          "data": {
            "image/png": "[encoded data removed]",
            "text/plain": [
              "<Figure size 432x288 with 1 Axes>"
            ]
          },
          "metadata": {
            "tags": []
          }
        }
      ]
    },
    {
      "cell_type": "code",
      "metadata": {
        "_uuid": "ac54f705c3fc462445cad2de978d7077646f933a",
        "id": "RW58fAfw6dwf",
        "colab": {
          "base_uri": "https://localhost:8080/",
          "height": 312
        },
        "outputId": "c7fb8751-90cc-4362-ced1-ff51bae640c2"
      },
      "source": [
        "sns.barplot(x=\"Sex\", y=\"Survived\", hue=\"Pclass\", data=training)\n",
        "plt.ylabel(\"Survival Rate\")\n",
        "plt.title(\"Survival Rates Based on Gender and Class\")"
      ],
      "execution_count": null,
      "outputs": [
        {
          "output_type": "execute_result",
          "data": {
            "text/plain": [
              "Text(0.5, 1.0, 'Survival Rates Based on Gender and Class')"
            ]
          },
          "metadata": {
            "tags": []
          },
          "execution_count": 13
        },
        {
          "output_type": "display_data",
          "data": {
            "image/png": "[encoded data removed]",
            "text/plain": [
              "<Figure size 432x288 with 1 Axes>"
            ]
          },
          "metadata": {
            "tags": []
          }
        }
      ]
    },
    {
      "cell_type": "markdown",
      "metadata": {
        "_uuid": "13dde8426cb8a654e6f50cb1855e4369c362ea68",
        "id": "lUzsF0Wj6dwg"
      },
      "source": [
        "It appears that class also plays a role in survival, as shown by the bar graph. People in Pclass 1 were more likely to survive than people in the other 2 Pclasses."
      ]
    },
    {
      "cell_type": "markdown",
      "metadata": {
        "_uuid": "ad10453d5d42100bfb65be57900ff1554508a95c",
        "id": "JZRG2n4n6dwh"
      },
      "source": [
        "**Age**"
      ]
    },
    {
      "cell_type": "code",
      "metadata": {
        "_uuid": "323af5a70d2033f9fa1b5cc8286a675869ba302e",
        "id": "eSj5fiJv6dwh",
        "colab": {
          "base_uri": "https://localhost:8080/",
          "height": 295
        },
        "outputId": "a982e82f-bbf9-411d-c381-7b1d41deb9d1"
      },
      "source": [
        "survived_ages = training[training.Survived == 1][\"Age\"]\n",
        "not_survived_ages = training[training.Survived == 0][\"Age\"]\n",
        "plt.subplot(1, 2, 1)\n",
        "sns.distplot(survived_ages, kde=False)\n",
        "plt.axis([0, 100, 0, 100])\n",
        "plt.title(\"Survived\")\n",
        "plt.ylabel(\"Proportion\")\n",
        "plt.subplot(1, 2, 2)\n",
        "sns.distplot(not_survived_ages, kde=False)\n",
        "plt.axis([0, 100, 0, 100])\n",
        "plt.title(\"Didn't Survive\")\n",
        "plt.show()"
      ],
      "execution_count": null,
      "outputs": [
        {
          "output_type": "display_data",
          "data": {
            "image/png": "[encoded data removed]",
            "text/plain": [
              "<Figure size 432x288 with 2 Axes>"
            ]
          },
          "metadata": {
            "tags": []
          }
        }
      ]
    },
    {
      "cell_type": "code",
      "metadata": {
        "_uuid": "46374be19c92dbeb146493226b47701820a1bc7f",
        "id": "pbe8tmMc6dwj",
        "colab": {
          "base_uri": "https://localhost:8080/",
          "height": 296
        },
        "outputId": "3a1410ed-dab6-480c-a63f-59fd01f48999"
      },
      "source": [
        "sns.stripplot(x=\"Survived\", y=\"Age\", data=training, jitter=True)"
      ],
      "execution_count": null,
      "outputs": [
        {
          "output_type": "execute_result",
          "data": {
            "text/plain": [
              "<matplotlib.axes._subplots.AxesSubplot at 0x7f9507b4cf98>"
            ]
          },
          "metadata": {
            "tags": []
          },
          "execution_count": 15
        },
        {
          "output_type": "display_data",
          "data": {
            "image/png": "[encoded data removed]",
            "text/plain": [
              "<Figure size 432x288 with 1 Axes>"
            ]
          },
          "metadata": {
            "tags": []
          }
        }
      ]
    },
    {
      "cell_type": "markdown",
      "metadata": {
        "_uuid": "56bcea2157a75ed314388f1804aa2271cc631f25",
        "id": "mqM3PIRG6dwl"
      },
      "source": [
        "It appears as though passengers in the younger range of ages were more likely to survive than those in the older range of ages, as seen by the clustering in the strip plot, as well as the survival distributions of the histogram."
      ]
    },
    {
      "cell_type": "markdown",
      "metadata": {
        "_uuid": "60d068f1155860f57f3395bd8bc6b752c050c8e5",
        "id": "NalZK_Za6dwl"
      },
      "source": [
        "Here is one final cumulative graph of a pair plot that shows the relations between all of the different features"
      ]
    },
    {
      "cell_type": "code",
      "metadata": {
        "_uuid": "7d98aac15ffac0c0a3282961850dabc42ae79b1c",
        "id": "JmqTI1DX6dwm",
        "colab": {
          "base_uri": "https://localhost:8080/",
          "height": 1000
        },
        "outputId": "86f51a46-b5cd-4071-a828-26fac58f3508"
      },
      "source": [
        "sns.pairplot(training)"
      ],
      "execution_count": null,
      "outputs": [
        {
          "output_type": "execute_result",
          "data": {
            "text/plain": [
              "<seaborn.axisgrid.PairGrid at 0x7f9507d17cf8>"
            ]
          },
          "metadata": {
            "tags": []
          },
          "execution_count": 16
        },
        {
          "output_type": "display_data",
          "data": {
            "image/png": "[encoded data removed]",
            "text/plain": [
              "<Figure size 1260x1260 with 56 Axes>"
            ]
          },
          "metadata": {
            "tags": []
          }
        }
      ]
    },
    {
      "cell_type": "markdown",
      "metadata": {
        "_uuid": "5a208dd95d6b8546f25d02a55822fb84800e3772",
        "id": "iE297Fp66dwp"
      },
      "source": [
        "<a id=\"p5\"></a>\n",
        "# 5. Feature Engineering\n",
        "Because values in the Sex and Embarked columns are categorical values, we have to represent these strings as numerical values in order to perform our classification with our model. We can also do this process through **One-Hot-Encoding**."
      ]
    },
    {
      "cell_type": "code",
      "metadata": {
        "_uuid": "bbf26333a83e030e896203276d0d361ec021ac35",
        "scrolled": false,
        "id": "o06fQ6C06dwr",
        "colab": {
          "base_uri": "https://localhost:8080/",
          "height": 195
        },
        "outputId": "11ae3b52-0a68-4cc3-a2e9-66d1bd5bfbe4"
      },
      "source": [
        "training.sample(5)"
      ],
      "execution_count": null,
      "outputs": [
        {
          "output_type": "execute_result",
          "data": {
            "text/html": [
              "<div>\n",
              "<style scoped>\n",
              "    .dataframe tbody tr th:only-of-type {\n",
              "        vertical-align: middle;\n",
              "    }\n",
              "\n",
              "    .dataframe tbody tr th {\n",
              "        vertical-align: top;\n",
              "    }\n",
              "\n",
              "    .dataframe thead th {\n",
              "        text-align: right;\n",
              "    }\n",
              "</style>\n",
              "<table border=\"1\" class=\"dataframe\">\n",
              "  <thead>\n",
              "    <tr style=\"text-align: right;\">\n",
              "      <th></th>\n",
              "      <th>PassengerId</th>\n",
              "      <th>Survived</th>\n",
              "      <th>Pclass</th>\n",
              "      <th>Name</th>\n",
              "      <th>Sex</th>\n",
              "      <th>Age</th>\n",
              "      <th>SibSp</th>\n",
              "      <th>Parch</th>\n",
              "      <th>Fare</th>\n",
              "      <th>Embarked</th>\n",
              "    </tr>\n",
              "  </thead>\n",
              "  <tbody>\n",
              "    <tr>\n",
              "      <th>18</th>\n",
              "      <td>19</td>\n",
              "      <td>0</td>\n",
              "      <td>3</td>\n",
              "      <td>Vander Planke, Mrs. Julius (Emelia Maria Vande...</td>\n",
              "      <td>female</td>\n",
              "      <td>31.0</td>\n",
              "      <td>1</td>\n",
              "      <td>0</td>\n",
              "      <td>18.0000</td>\n",
              "      <td>S</td>\n",
              "    </tr>\n",
              "    <tr>\n",
              "      <th>829</th>\n",
              "      <td>830</td>\n",
              "      <td>1</td>\n",
              "      <td>1</td>\n",
              "      <td>Stone, Mrs. George Nelson (Martha Evelyn)</td>\n",
              "      <td>female</td>\n",
              "      <td>62.0</td>\n",
              "      <td>0</td>\n",
              "      <td>0</td>\n",
              "      <td>80.0000</td>\n",
              "      <td>S</td>\n",
              "    </tr>\n",
              "    <tr>\n",
              "      <th>85</th>\n",
              "      <td>86</td>\n",
              "      <td>1</td>\n",
              "      <td>3</td>\n",
              "      <td>Backstrom, Mrs. Karl Alfred (Maria Mathilda Gu...</td>\n",
              "      <td>female</td>\n",
              "      <td>33.0</td>\n",
              "      <td>3</td>\n",
              "      <td>0</td>\n",
              "      <td>15.8500</td>\n",
              "      <td>S</td>\n",
              "    </tr>\n",
              "    <tr>\n",
              "      <th>107</th>\n",
              "      <td>108</td>\n",
              "      <td>1</td>\n",
              "      <td>3</td>\n",
              "      <td>Moss, Mr. Albert Johan</td>\n",
              "      <td>male</td>\n",
              "      <td>28.0</td>\n",
              "      <td>0</td>\n",
              "      <td>0</td>\n",
              "      <td>7.7750</td>\n",
              "      <td>S</td>\n",
              "    </tr>\n",
              "    <tr>\n",
              "      <th>702</th>\n",
              "      <td>703</td>\n",
              "      <td>0</td>\n",
              "      <td>3</td>\n",
              "      <td>Barbara, Miss. Saiide</td>\n",
              "      <td>female</td>\n",
              "      <td>18.0</td>\n",
              "      <td>0</td>\n",
              "      <td>1</td>\n",
              "      <td>14.4542</td>\n",
              "      <td>C</td>\n",
              "    </tr>\n",
              "  </tbody>\n",
              "</table>\n",
              "</div>"
            ],
            "text/plain": [
              "     PassengerId  Survived  Pclass  ... Parch     Fare  Embarked\n",
              "18            19         0       3  ...     0  18.0000         S\n",
              "829          830         1       1  ...     0  80.0000         S\n",
              "85            86         1       3  ...     0  15.8500         S\n",
              "107          108         1       3  ...     0   7.7750         S\n",
              "702          703         0       3  ...     1  14.4542         C\n",
              "\n",
              "[5 rows x 10 columns]"
            ]
          },
          "metadata": {
            "tags": []
          },
          "execution_count": 17
        }
      ]
    },
    {
      "cell_type": "code",
      "metadata": {
        "_uuid": "66934ee8a0f64f0faa2afce91d9e28a4a1b56864",
        "id": "vUiw4V7K6dwt",
        "colab": {
          "base_uri": "https://localhost:8080/",
          "height": 195
        },
        "outputId": "719403a4-14c8-430a-ad9e-1c24ed8797f4"
      },
      "source": [
        "testing.sample(5)"
      ],
      "execution_count": null,
      "outputs": [
        {
          "output_type": "execute_result",
          "data": {
            "text/html": [
              "<div>\n",
              "<style scoped>\n",
              "    .dataframe tbody tr th:only-of-type {\n",
              "        vertical-align: middle;\n",
              "    }\n",
              "\n",
              "    .dataframe tbody tr th {\n",
              "        vertical-align: top;\n",
              "    }\n",
              "\n",
              "    .dataframe thead th {\n",
              "        text-align: right;\n",
              "    }\n",
              "</style>\n",
              "<table border=\"1\" class=\"dataframe\">\n",
              "  <thead>\n",
              "    <tr style=\"text-align: right;\">\n",
              "      <th></th>\n",
              "      <th>PassengerId</th>\n",
              "      <th>Pclass</th>\n",
              "      <th>Name</th>\n",
              "      <th>Sex</th>\n",
              "      <th>Age</th>\n",
              "      <th>SibSp</th>\n",
              "      <th>Parch</th>\n",
              "      <th>Fare</th>\n",
              "      <th>Embarked</th>\n",
              "    </tr>\n",
              "  </thead>\n",
              "  <tbody>\n",
              "    <tr>\n",
              "      <th>188</th>\n",
              "      <td>1080</td>\n",
              "      <td>3</td>\n",
              "      <td>Sage, Miss. Ada</td>\n",
              "      <td>female</td>\n",
              "      <td>27.0</td>\n",
              "      <td>8</td>\n",
              "      <td>2</td>\n",
              "      <td>69.550</td>\n",
              "      <td>S</td>\n",
              "    </tr>\n",
              "    <tr>\n",
              "      <th>345</th>\n",
              "      <td>1237</td>\n",
              "      <td>3</td>\n",
              "      <td>Abelseth, Miss. Karen Marie</td>\n",
              "      <td>female</td>\n",
              "      <td>16.0</td>\n",
              "      <td>0</td>\n",
              "      <td>0</td>\n",
              "      <td>7.650</td>\n",
              "      <td>S</td>\n",
              "    </tr>\n",
              "    <tr>\n",
              "      <th>274</th>\n",
              "      <td>1166</td>\n",
              "      <td>3</td>\n",
              "      <td>Saade, Mr. Jean Nassr</td>\n",
              "      <td>male</td>\n",
              "      <td>27.0</td>\n",
              "      <td>0</td>\n",
              "      <td>0</td>\n",
              "      <td>7.225</td>\n",
              "      <td>C</td>\n",
              "    </tr>\n",
              "    <tr>\n",
              "      <th>25</th>\n",
              "      <td>917</td>\n",
              "      <td>3</td>\n",
              "      <td>Robins, Mr. Alexander A</td>\n",
              "      <td>male</td>\n",
              "      <td>50.0</td>\n",
              "      <td>1</td>\n",
              "      <td>0</td>\n",
              "      <td>14.500</td>\n",
              "      <td>S</td>\n",
              "    </tr>\n",
              "    <tr>\n",
              "      <th>72</th>\n",
              "      <td>964</td>\n",
              "      <td>3</td>\n",
              "      <td>Nieminen, Miss. Manta Josefina</td>\n",
              "      <td>female</td>\n",
              "      <td>29.0</td>\n",
              "      <td>0</td>\n",
              "      <td>0</td>\n",
              "      <td>7.925</td>\n",
              "      <td>S</td>\n",
              "    </tr>\n",
              "  </tbody>\n",
              "</table>\n",
              "</div>"
            ],
            "text/plain": [
              "     PassengerId  Pclass  ...    Fare Embarked\n",
              "188         1080       3  ...  69.550        S\n",
              "345         1237       3  ...   7.650        S\n",
              "274         1166       3  ...   7.225        C\n",
              "25           917       3  ...  14.500        S\n",
              "72           964       3  ...   7.925        S\n",
              "\n",
              "[5 rows x 9 columns]"
            ]
          },
          "metadata": {
            "tags": []
          },
          "execution_count": 18
        }
      ]
    },
    {
      "cell_type": "markdown",
      "metadata": {
        "_uuid": "adbfc2d35676144cea7a3a80775229d51030990d",
        "id": "EueozJK76dwu"
      },
      "source": [
        "We change Sex to binary, as either 1 for female or 0 for male. We do the same for Embarked. We do this same process on both the training and testing set to prepare our data for Machine Learning."
      ]
    },
    {
      "cell_type": "code",
      "metadata": {
        "_uuid": "18893231d1a1ec187e76095762e9f278d91e0714",
        "id": "wPn7ewc-6dwv"
      },
      "source": [
        "training.loc[training[\"Sex\"] == \"male\", \"Sex\"] = 0\n",
        "training.loc[training[\"Sex\"] == \"female\", \"Sex\"] = 1\n",
        "\n",
        "training.loc[training[\"Embarked\"] == \"S\", \"Embarked\"] = 0\n",
        "training.loc[training[\"Embarked\"] == \"C\", \"Embarked\"] = 1\n",
        "training.loc[training[\"Embarked\"] == \"Q\", \"Embarked\"] = 2\n",
        "\n",
        "testing.loc[testing[\"Sex\"] == \"male\", \"Sex\"] = 0\n",
        "testing.loc[testing[\"Sex\"] == \"female\", \"Sex\"] = 1\n",
        "\n",
        "testing.loc[testing[\"Embarked\"] == \"S\", \"Embarked\"] = 0\n",
        "testing.loc[testing[\"Embarked\"] == \"C\", \"Embarked\"] = 1\n",
        "testing.loc[testing[\"Embarked\"] == \"Q\", \"Embarked\"] = 2"
      ],
      "execution_count": null,
      "outputs": []
    },
    {
      "cell_type": "code",
      "metadata": {
        "_uuid": "b857a8e6e2e9542d53c01e4699f8d101780d5fee",
        "id": "uE6fRYq06dww",
        "colab": {
          "base_uri": "https://localhost:8080/",
          "height": 343
        },
        "outputId": "041e9892-2a48-4f40-9031-5513e7a4fcfa"
      },
      "source": [
        "testing.sample(10)"
      ],
      "execution_count": null,
      "outputs": [
        {
          "output_type": "execute_result",
          "data": {
            "text/html": [
              "<div>\n",
              "<style scoped>\n",
              "    .dataframe tbody tr th:only-of-type {\n",
              "        vertical-align: middle;\n",
              "    }\n",
              "\n",
              "    .dataframe tbody tr th {\n",
              "        vertical-align: top;\n",
              "    }\n",
              "\n",
              "    .dataframe thead th {\n",
              "        text-align: right;\n",
              "    }\n",
              "</style>\n",
              "<table border=\"1\" class=\"dataframe\">\n",
              "  <thead>\n",
              "    <tr style=\"text-align: right;\">\n",
              "      <th></th>\n",
              "      <th>PassengerId</th>\n",
              "      <th>Pclass</th>\n",
              "      <th>Name</th>\n",
              "      <th>Sex</th>\n",
              "      <th>Age</th>\n",
              "      <th>SibSp</th>\n",
              "      <th>Parch</th>\n",
              "      <th>Fare</th>\n",
              "      <th>Embarked</th>\n",
              "    </tr>\n",
              "  </thead>\n",
              "  <tbody>\n",
              "    <tr>\n",
              "      <th>199</th>\n",
              "      <td>1091</td>\n",
              "      <td>3</td>\n",
              "      <td>Rasmussen, Mrs. (Lena Jacobsen Solvang)</td>\n",
              "      <td>1</td>\n",
              "      <td>27.0</td>\n",
              "      <td>0</td>\n",
              "      <td>0</td>\n",
              "      <td>8.1125</td>\n",
              "      <td>0</td>\n",
              "    </tr>\n",
              "    <tr>\n",
              "      <th>58</th>\n",
              "      <td>950</td>\n",
              "      <td>3</td>\n",
              "      <td>Davison, Mr. Thomas Henry</td>\n",
              "      <td>0</td>\n",
              "      <td>27.0</td>\n",
              "      <td>1</td>\n",
              "      <td>0</td>\n",
              "      <td>16.1000</td>\n",
              "      <td>0</td>\n",
              "    </tr>\n",
              "    <tr>\n",
              "      <th>386</th>\n",
              "      <td>1278</td>\n",
              "      <td>3</td>\n",
              "      <td>Aronsson, Mr. Ernst Axel Algot</td>\n",
              "      <td>0</td>\n",
              "      <td>24.0</td>\n",
              "      <td>0</td>\n",
              "      <td>0</td>\n",
              "      <td>7.7750</td>\n",
              "      <td>0</td>\n",
              "    </tr>\n",
              "    <tr>\n",
              "      <th>415</th>\n",
              "      <td>1307</td>\n",
              "      <td>3</td>\n",
              "      <td>Saether, Mr. Simon Sivertsen</td>\n",
              "      <td>0</td>\n",
              "      <td>38.5</td>\n",
              "      <td>0</td>\n",
              "      <td>0</td>\n",
              "      <td>7.2500</td>\n",
              "      <td>0</td>\n",
              "    </tr>\n",
              "    <tr>\n",
              "      <th>122</th>\n",
              "      <td>1014</td>\n",
              "      <td>1</td>\n",
              "      <td>Schabert, Mrs. Paul (Emma Mock)</td>\n",
              "      <td>1</td>\n",
              "      <td>35.0</td>\n",
              "      <td>1</td>\n",
              "      <td>0</td>\n",
              "      <td>57.7500</td>\n",
              "      <td>1</td>\n",
              "    </tr>\n",
              "    <tr>\n",
              "      <th>30</th>\n",
              "      <td>922</td>\n",
              "      <td>2</td>\n",
              "      <td>Louch, Mr. Charles Alexander</td>\n",
              "      <td>0</td>\n",
              "      <td>50.0</td>\n",
              "      <td>1</td>\n",
              "      <td>0</td>\n",
              "      <td>26.0000</td>\n",
              "      <td>0</td>\n",
              "    </tr>\n",
              "    <tr>\n",
              "      <th>236</th>\n",
              "      <td>1128</td>\n",
              "      <td>1</td>\n",
              "      <td>Warren, Mr. Frank Manley</td>\n",
              "      <td>0</td>\n",
              "      <td>64.0</td>\n",
              "      <td>1</td>\n",
              "      <td>0</td>\n",
              "      <td>75.2500</td>\n",
              "      <td>1</td>\n",
              "    </tr>\n",
              "    <tr>\n",
              "      <th>7</th>\n",
              "      <td>899</td>\n",
              "      <td>2</td>\n",
              "      <td>Caldwell, Mr. Albert Francis</td>\n",
              "      <td>0</td>\n",
              "      <td>26.0</td>\n",
              "      <td>1</td>\n",
              "      <td>1</td>\n",
              "      <td>29.0000</td>\n",
              "      <td>0</td>\n",
              "    </tr>\n",
              "    <tr>\n",
              "      <th>186</th>\n",
              "      <td>1078</td>\n",
              "      <td>2</td>\n",
              "      <td>Phillips, Miss. Alice Frances Louisa</td>\n",
              "      <td>1</td>\n",
              "      <td>21.0</td>\n",
              "      <td>0</td>\n",
              "      <td>1</td>\n",
              "      <td>21.0000</td>\n",
              "      <td>0</td>\n",
              "    </tr>\n",
              "    <tr>\n",
              "      <th>288</th>\n",
              "      <td>1180</td>\n",
              "      <td>3</td>\n",
              "      <td>Mardirosian, Mr. Sarkis</td>\n",
              "      <td>0</td>\n",
              "      <td>27.0</td>\n",
              "      <td>0</td>\n",
              "      <td>0</td>\n",
              "      <td>7.2292</td>\n",
              "      <td>1</td>\n",
              "    </tr>\n",
              "  </tbody>\n",
              "</table>\n",
              "</div>"
            ],
            "text/plain": [
              "     PassengerId  Pclass  ...     Fare  Embarked\n",
              "199         1091       3  ...   8.1125         0\n",
              "58           950       3  ...  16.1000         0\n",
              "386         1278       3  ...   7.7750         0\n",
              "415         1307       3  ...   7.2500         0\n",
              "122         1014       1  ...  57.7500         1\n",
              "30           922       2  ...  26.0000         0\n",
              "236         1128       1  ...  75.2500         1\n",
              "7            899       2  ...  29.0000         0\n",
              "186         1078       2  ...  21.0000         0\n",
              "288         1180       3  ...   7.2292         1\n",
              "\n",
              "[10 rows x 9 columns]"
            ]
          },
          "metadata": {
            "tags": []
          },
          "execution_count": 20
        }
      ]
    },
    {
      "cell_type": "markdown",
      "metadata": {
        "_uuid": "49a1c9d969495eacc54b5e03086ee4e682f7c472",
        "id": "h_srwh0u6dwy"
      },
      "source": [
        "We can combine SibSp and Parch into one synthetic feature called family size, which indicates the total number of family members on board for each member."
      ]
    },
    {
      "cell_type": "code",
      "metadata": {
        "_uuid": "889c1c9d5c7a42f56562f12dfe9fc76cd4949cd1",
        "id": "6LIn6Ztd6dwy"
      },
      "source": [
        "training[\"FamSize\"] = training[\"SibSp\"] + training[\"Parch\"] + 1\n",
        "testing[\"FamSize\"] = testing[\"SibSp\"] + testing[\"Parch\"] + 1"
      ],
      "execution_count": null,
      "outputs": []
    },
    {
      "cell_type": "markdown",
      "metadata": {
        "_uuid": "f41eb8b24fa207451ef641776189afb16c811c5d",
        "id": "dRWGPIhf6dwz"
      },
      "source": [
        "This IsAlone feature also may work well with the data we're dealing with, telling us whether the passenger was along or not on the ship."
      ]
    },
    {
      "cell_type": "code",
      "metadata": {
        "_uuid": "d42df43ea7691877bb3875d15ce2804962f1e70e",
        "id": "UwbnHbpk6dw1"
      },
      "source": [
        "training[\"IsAlone\"] = training.FamSize.apply(lambda x: 1 if x == 1 else 0)\n",
        "testing[\"IsAlone\"] = testing.FamSize.apply(lambda x: 1 if x == 1 else 0)"
      ],
      "execution_count": null,
      "outputs": []
    },
    {
      "cell_type": "markdown",
      "metadata": {
        "_uuid": "e57b637bc0e7028f1373559b8b8485fb983fa456",
        "id": "MufXl5Yq6dw2"
      },
      "source": [
        "Although it may not seem like it, we can also extract some useful information from the name column. Not the actual names themselves, but the title of their names like Ms. or Mr. This may also provide a hint as to whether the passenger survived or not. Therefore we can extract this title and then encode it like we did for Sex and Embarked."
      ]
    },
    {
      "cell_type": "code",
      "metadata": {
        "_uuid": "fb584d57bfc2e25e1e106aeb117c87ee9ffa3c75",
        "id": "yUgV5hf06dw3"
      },
      "source": [
        "for name in training[\"Name\"]:\n",
        "    training[\"Title\"] = training[\"Name\"].str.extract(\"([A-Za-z]+)\\.\",expand=True)\n",
        "\n",
        "for name in testing[\"Name\"]:\n",
        "    testing[\"Title\"] = testing[\"Name\"].str.extract(\"([A-Za-z]+)\\.\",expand=True)\n",
        "\n",
        "title_replacements = {\"Mlle\": \"Other\", \"Major\": \"Other\", \"Col\": \"Other\", \"Sir\": \"Other\", \"Don\": \"Other\", \"Mme\": \"Other\",\n",
        "          \"Jonkheer\": \"Other\", \"Lady\": \"Other\", \"Capt\": \"Other\", \"Countess\": \"Other\", \"Ms\": \"Other\", \"Dona\": \"Other\", \"Rev\": \"Other\", \"Dr\": \"Other\"}\n",
        "\n",
        "training.replace({\"Title\": title_replacements}, inplace=True)\n",
        "testing.replace({\"Title\": title_replacements}, inplace=True)\n",
        "\n",
        "training.loc[training[\"Title\"] == \"Miss\", \"Title\"] = 0\n",
        "training.loc[training[\"Title\"] == \"Mr\", \"Title\"] = 1\n",
        "training.loc[training[\"Title\"] == \"Mrs\", \"Title\"] = 2\n",
        "training.loc[training[\"Title\"] == \"Master\", \"Title\"] = 3\n",
        "training.loc[training[\"Title\"] == \"Other\", \"Title\"] = 4\n",
        "\n",
        "testing.loc[testing[\"Title\"] == \"Miss\", \"Title\"] = 0\n",
        "testing.loc[testing[\"Title\"] == \"Mr\", \"Title\"] = 1\n",
        "testing.loc[testing[\"Title\"] == \"Mrs\", \"Title\"] = 2\n",
        "testing.loc[testing[\"Title\"] == \"Master\", \"Title\"] = 3\n",
        "testing.loc[testing[\"Title\"] == \"Other\", \"Title\"] = 4"
      ],
      "execution_count": null,
      "outputs": []
    },
    {
      "cell_type": "code",
      "metadata": {
        "_uuid": "4c82b45238c0405bfa93f028af4f96d0c8b6f760",
        "scrolled": true,
        "id": "vL92UcBY6dw4",
        "colab": {
          "base_uri": "https://localhost:8080/",
          "height": 34
        },
        "outputId": "60facb2a-a855-4a77-ef4d-4e8dc0d63c96"
      },
      "source": [
        "print(set(training[\"Title\"]))"
      ],
      "execution_count": null,
      "outputs": [
        {
          "output_type": "stream",
          "text": [
            "{0, 1, 2, 3, 4}\n"
          ],
          "name": "stdout"
        }
      ]
    },
    {
      "cell_type": "code",
      "metadata": {
        "_uuid": "382e3a9d9a34fe26c3f0494ff5d3fd48df59038b",
        "id": "AzL1XFbH6dw6",
        "colab": {
          "base_uri": "https://localhost:8080/",
          "height": 195
        },
        "outputId": "024277d1-1ab2-4b14-9a96-5d9d1757e7ee"
      },
      "source": [
        "training.sample(5)"
      ],
      "execution_count": null,
      "outputs": [
        {
          "output_type": "execute_result",
          "data": {
            "text/html": [
              "<div>\n",
              "<style scoped>\n",
              "    .dataframe tbody tr th:only-of-type {\n",
              "        vertical-align: middle;\n",
              "    }\n",
              "\n",
              "    .dataframe tbody tr th {\n",
              "        vertical-align: top;\n",
              "    }\n",
              "\n",
              "    .dataframe thead th {\n",
              "        text-align: right;\n",
              "    }\n",
              "</style>\n",
              "<table border=\"1\" class=\"dataframe\">\n",
              "  <thead>\n",
              "    <tr style=\"text-align: right;\">\n",
              "      <th></th>\n",
              "      <th>PassengerId</th>\n",
              "      <th>Survived</th>\n",
              "      <th>Pclass</th>\n",
              "      <th>Name</th>\n",
              "      <th>Sex</th>\n",
              "      <th>Age</th>\n",
              "      <th>SibSp</th>\n",
              "      <th>Parch</th>\n",
              "      <th>Fare</th>\n",
              "      <th>Embarked</th>\n",
              "      <th>FamSize</th>\n",
              "      <th>IsAlone</th>\n",
              "      <th>Title</th>\n",
              "    </tr>\n",
              "  </thead>\n",
              "  <tbody>\n",
              "    <tr>\n",
              "      <th>212</th>\n",
              "      <td>213</td>\n",
              "      <td>0</td>\n",
              "      <td>3</td>\n",
              "      <td>Perkin, Mr. John Henry</td>\n",
              "      <td>0</td>\n",
              "      <td>22.0</td>\n",
              "      <td>0</td>\n",
              "      <td>0</td>\n",
              "      <td>7.2500</td>\n",
              "      <td>0</td>\n",
              "      <td>1</td>\n",
              "      <td>1</td>\n",
              "      <td>1</td>\n",
              "    </tr>\n",
              "    <tr>\n",
              "      <th>638</th>\n",
              "      <td>639</td>\n",
              "      <td>0</td>\n",
              "      <td>3</td>\n",
              "      <td>Panula, Mrs. Juha (Maria Emilia Ojala)</td>\n",
              "      <td>1</td>\n",
              "      <td>41.0</td>\n",
              "      <td>0</td>\n",
              "      <td>5</td>\n",
              "      <td>39.6875</td>\n",
              "      <td>0</td>\n",
              "      <td>6</td>\n",
              "      <td>0</td>\n",
              "      <td>2</td>\n",
              "    </tr>\n",
              "    <tr>\n",
              "      <th>166</th>\n",
              "      <td>167</td>\n",
              "      <td>1</td>\n",
              "      <td>1</td>\n",
              "      <td>Chibnall, Mrs. (Edith Martha Bowerman)</td>\n",
              "      <td>1</td>\n",
              "      <td>28.0</td>\n",
              "      <td>0</td>\n",
              "      <td>1</td>\n",
              "      <td>55.0000</td>\n",
              "      <td>0</td>\n",
              "      <td>2</td>\n",
              "      <td>0</td>\n",
              "      <td>2</td>\n",
              "    </tr>\n",
              "    <tr>\n",
              "      <th>279</th>\n",
              "      <td>280</td>\n",
              "      <td>1</td>\n",
              "      <td>3</td>\n",
              "      <td>Abbott, Mrs. Stanton (Rosa Hunt)</td>\n",
              "      <td>1</td>\n",
              "      <td>35.0</td>\n",
              "      <td>1</td>\n",
              "      <td>1</td>\n",
              "      <td>20.2500</td>\n",
              "      <td>0</td>\n",
              "      <td>3</td>\n",
              "      <td>0</td>\n",
              "      <td>2</td>\n",
              "    </tr>\n",
              "    <tr>\n",
              "      <th>611</th>\n",
              "      <td>612</td>\n",
              "      <td>0</td>\n",
              "      <td>3</td>\n",
              "      <td>Jardin, Mr. Jose Neto</td>\n",
              "      <td>0</td>\n",
              "      <td>28.0</td>\n",
              "      <td>0</td>\n",
              "      <td>0</td>\n",
              "      <td>7.0500</td>\n",
              "      <td>0</td>\n",
              "      <td>1</td>\n",
              "      <td>1</td>\n",
              "      <td>1</td>\n",
              "    </tr>\n",
              "  </tbody>\n",
              "</table>\n",
              "</div>"
            ],
            "text/plain": [
              "     PassengerId  Survived  Pclass  ... FamSize  IsAlone  Title\n",
              "212          213         0       3  ...       1        1      1\n",
              "638          639         0       3  ...       6        0      2\n",
              "166          167         1       1  ...       2        0      2\n",
              "279          280         1       3  ...       3        0      2\n",
              "611          612         0       3  ...       1        1      1\n",
              "\n",
              "[5 rows x 13 columns]"
            ]
          },
          "metadata": {
            "tags": []
          },
          "execution_count": 25
        }
      ]
    },
    {
      "cell_type": "markdown",
      "metadata": {
        "_uuid": "41de656234ed079e07f5390372c3a9306a17e98a",
        "id": "uNEaYNcX6dw7"
      },
      "source": [
        "<a id=\"p6\"></a>\n",
        "# 6. Model Fitting and Predicting\n",
        "Now that our data has been processed and formmated properly, and that we understand the general data we're working with as well as the trends and associations, we can start to build our model. We can import different classifiers from sklearn. We will try different types of models to see which one gives the best accuracy for its predictions."
      ]
    },
    {
      "cell_type": "markdown",
      "metadata": {
        "_uuid": "2c7048c1e2d22005039a58fea15ebadcc27ec2bf",
        "id": "9bVSi1yf6dw8"
      },
      "source": [
        "**sklearn Models to Test**"
      ]
    },
    {
      "cell_type": "code",
      "metadata": {
        "_uuid": "247cf16dde7c8b0403beae7a93322bf2863ec6f9",
        "id": "HwAMNwum6dw8"
      },
      "source": [
        "from sklearn.svm import SVC, LinearSVC\n",
        "from sklearn.ensemble import RandomForestClassifier\n",
        "from sklearn.linear_model import LogisticRegression\n",
        "from sklearn.neighbors import KNeighborsClassifier\n",
        "from sklearn.naive_bayes import GaussianNB\n",
        "from sklearn.tree import DecisionTreeClassifier"
      ],
      "execution_count": null,
      "outputs": []
    },
    {
      "cell_type": "markdown",
      "metadata": {
        "_uuid": "2cd333e04846dcd31b6a622fe901d4f55c958bd6",
        "id": "SEBScPSc6dw9"
      },
      "source": [
        "To evaluate our model performance, we can use the make_scorere and accuracy_score function from sklearn metrics."
      ]
    },
    {
      "cell_type": "code",
      "metadata": {
        "_uuid": "63e0f0169267edd3e4c45ae829476f51e4d1df0e",
        "id": "JrL6Vcjw6dw-"
      },
      "source": [
        "from sklearn.metrics import make_scorer, accuracy_score"
      ],
      "execution_count": null,
      "outputs": []
    },
    {
      "cell_type": "markdown",
      "metadata": {
        "_uuid": "92194bb407126ddec5273bb45fdbd5d515854e0a",
        "id": "zw_g0xd56dxA"
      },
      "source": [
        "We can also use a GridSearch cross validation to find the optimal parameters for the model we choose to work with and use to predict on our testing set."
      ]
    },
    {
      "cell_type": "code",
      "metadata": {
        "_uuid": "9bd1078ce44840c71b2e4fe6a0651b538d892995",
        "id": "JN4__Vsu6dxA"
      },
      "source": [
        "from sklearn.model_selection import GridSearchCV"
      ],
      "execution_count": null,
      "outputs": []
    },
    {
      "cell_type": "markdown",
      "metadata": {
        "_uuid": "db3842b4fcfcf0d1e7b0c802217b7a38d489ccb8",
        "id": "0M86PgzQ6dxB"
      },
      "source": [
        "**Defining Features in Training/Test Set**"
      ]
    },
    {
      "cell_type": "code",
      "metadata": {
        "_uuid": "d9484f14efc825d2eb1e5496995d57d6a788de22",
        "id": "ug3U_ZU36dxC"
      },
      "source": [
        "features = [\"Pclass\", \"Sex\", \"Age\", \"Embarked\", \"Fare\", \"FamSize\", \"IsAlone\", \"Title\"]\n",
        "X_train = training[features] #define training features set\n",
        "y_train = training[\"Survived\"] #define training label set\n",
        "X_test = testing[features] #define testing features set\n",
        "#we don't have y_test, that is what we're trying to predict with our model"
      ],
      "execution_count": null,
      "outputs": []
    },
    {
      "cell_type": "markdown",
      "metadata": {
        "_uuid": "a008d1b7a4a90e34b2844922295f8146823f02ee",
        "id": "gTnwCD5Z6dxD"
      },
      "source": [
        "**Validation Data Set**\n",
        "\n",
        "Although we already have a test set, it is generally easy to overfit the data with these classifiers. It is therefore useful to have a third data set called the validation data set to ensure that our model doesn't overfit with the data. We can make this third data set with sklearn's train_test_split function. We can also use the validation data set to test the general accuracy of our model."
      ]
    },
    {
      "cell_type": "code",
      "metadata": {
        "_uuid": "525f4a8f4119d03e20726b7b594d037e3fa30172",
        "id": "Daz_sPK46dxE"
      },
      "source": [
        "from sklearn.model_selection import train_test_split #to create validation data set\n",
        "\n",
        "X_training, X_valid, y_training, y_valid = train_test_split(X_train, y_train, test_size=0.2, random_state=0) #X_valid and y_valid are the validation sets"
      ],
      "execution_count": null,
      "outputs": []
    },
    {
      "cell_type": "markdown",
      "metadata": {
        "_uuid": "d3597926b012f917a34e9c2369baaa35b4e79452",
        "id": "KbGa0BJj6dxF"
      },
      "source": [
        "**SVC Model**"
      ]
    },
    {
      "cell_type": "code",
      "metadata": {
        "_uuid": "39fd28f225d9f1a9d283aa441e5e57508cbc7474",
        "id": "HjYynI4-6dxF",
        "colab": {
          "base_uri": "https://localhost:8080/"
        },
        "outputId": "bf2f6435-d840-42f5-b15b-a005b4bafa2b"
      },
      "source": [
        "svc_clf = SVC()\n",
        "svc_clf.fit(X_training, y_training)\n",
        "pred_svc = svc_clf.predict(X_valid)\n",
        "acc_svc = accuracy_score(y_valid, pred_svc)\n",
        "\n",
        "print(acc_svc)"
      ],
      "execution_count": null,
      "outputs": [
        {
          "output_type": "stream",
          "text": [
            "0.7262569832402235\n"
          ],
          "name": "stdout"
        }
      ]
    },
    {
      "cell_type": "markdown",
      "metadata": {
        "_uuid": "e6fa08797335fb70e5399aac9d0aa418ddc91416",
        "id": "F0GYRGz56dxH"
      },
      "source": [
        "**LinearSVC Model**"
      ]
    },
    {
      "cell_type": "code",
      "metadata": {
        "_uuid": "58b88de30c4a4fa7273cf63e50a54a71fb70e83b",
        "id": "HcKgxBag6dxH",
        "colab": {
          "base_uri": "https://localhost:8080/"
        },
        "outputId": "279ee4b6-9679-4dc4-b0ea-bc405c305441"
      },
      "source": [
        "linsvc_clf = LinearSVC()\n",
        "linsvc_clf.fit(X_training, y_training)\n",
        "pred_linsvc = linsvc_clf.predict(X_valid)\n",
        "acc_linsvc = accuracy_score(y_valid, pred_linsvc)\n",
        "\n",
        "print(acc_linsvc)"
      ],
      "execution_count": null,
      "outputs": [
        {
          "output_type": "stream",
          "text": [
            "0.7821229050279329\n"
          ],
          "name": "stdout"
        }
      ]
    },
    {
      "cell_type": "markdown",
      "metadata": {
        "_uuid": "e2a0d34546d72e87ea6b6cc8515040fd3f315227",
        "id": "Gvw5Xz2E6dxI"
      },
      "source": [
        "**RandomForest Model**"
      ]
    },
    {
      "cell_type": "code",
      "metadata": {
        "_uuid": "1a64bcaa1f6beb3fb70f1fe0c8565379a4cce677",
        "id": "I5fHSiNL6dxJ",
        "colab": {
          "base_uri": "https://localhost:8080/"
        },
        "outputId": "b23b6454-a6a1-40d4-b3d3-c4928958c5de"
      },
      "source": [
        "rf_clf = RandomForestClassifier()\n",
        "rf_clf.fit(X_training, y_training)\n",
        "pred_rf = rf_clf.predict(X_valid)\n",
        "acc_rf = accuracy_score(y_valid, pred_rf)\n",
        "\n",
        "print(acc_rf)"
      ],
      "execution_count": null,
      "outputs": [
        {
          "output_type": "stream",
          "text": [
            "0.8212290502793296\n"
          ],
          "name": "stdout"
        }
      ]
    },
    {
      "cell_type": "markdown",
      "metadata": {
        "_uuid": "be2afad3f04bb3317225d689198ce2f817d1634d",
        "id": "SmDHSADr6dxK"
      },
      "source": [
        "**LogisiticRegression Model**"
      ]
    },
    {
      "cell_type": "code",
      "metadata": {
        "_uuid": "1fb3aef22962da43e521b386c754c9b2c7ba0e9e",
        "id": "4_Pm02zL6dxL",
        "colab": {
          "base_uri": "https://localhost:8080/"
        },
        "outputId": "43e18304-d7b6-4196-8eaa-16ed4feff1af"
      },
      "source": [
        "logreg_clf = LogisticRegression()\n",
        "logreg_clf.fit(X_training, y_training)\n",
        "pred_logreg = logreg_clf.predict(X_valid)\n",
        "acc_logreg = accuracy_score(y_valid, pred_logreg)\n",
        "\n",
        "print(acc_logreg)"
      ],
      "execution_count": null,
      "outputs": [
        {
          "output_type": "stream",
          "text": [
            "0.7988826815642458\n"
          ],
          "name": "stdout"
        }
      ]
    },
    {
      "cell_type": "markdown",
      "metadata": {
        "_uuid": "b171f05d72bdc35ce4bb6c64ac22acb06986c4ed",
        "id": "mVA9tSiz6dxM"
      },
      "source": [
        "**KNeighbors Model**"
      ]
    },
    {
      "cell_type": "code",
      "metadata": {
        "_uuid": "4db5787d77d70de18781b2b15cd5ad5b16d0e2b0",
        "id": "i46vkYGA6dxO",
        "colab": {
          "base_uri": "https://localhost:8080/"
        },
        "outputId": "979dd8ad-1c89-4fe8-aece-05260589c1f9"
      },
      "source": [
        "knn_clf = KNeighborsClassifier()\n",
        "knn_clf.fit(X_training, y_training)\n",
        "pred_knn = knn_clf.predict(X_valid)\n",
        "acc_knn = accuracy_score(y_valid, pred_knn)\n",
        "\n",
        "print(acc_knn)"
      ],
      "execution_count": null,
      "outputs": [
        {
          "output_type": "stream",
          "text": [
            "0.7430167597765364\n"
          ],
          "name": "stdout"
        }
      ]
    },
    {
      "cell_type": "markdown",
      "metadata": {
        "_uuid": "be52b3ffcc1f25f5c6bc03ff8a94802f6693657b",
        "id": "ih2Oo7Bu6dxP"
      },
      "source": [
        "**GaussianNB Model**"
      ]
    },
    {
      "cell_type": "code",
      "metadata": {
        "_uuid": "7c8531ec4857b0fb7ccdfc153fbd7a6ca07e4fef",
        "id": "Pj-0nNaM6dxQ",
        "colab": {
          "base_uri": "https://localhost:8080/"
        },
        "outputId": "8a7f690f-8c9a-4b16-b578-adaf81ec9e0e"
      },
      "source": [
        "gnb_clf = GaussianNB()\n",
        "gnb_clf.fit(X_training, y_training)\n",
        "pred_gnb = gnb_clf.predict(X_valid)\n",
        "acc_gnb = accuracy_score(y_valid, pred_gnb)\n",
        "\n",
        "print(acc_gnb)"
      ],
      "execution_count": null,
      "outputs": [
        {
          "output_type": "stream",
          "text": [
            "0.7877094972067039\n"
          ],
          "name": "stdout"
        }
      ]
    },
    {
      "cell_type": "markdown",
      "metadata": {
        "_uuid": "0160729b9da414de164ca5aec33d70302014f7ea",
        "id": "8kbnbtu66dxR"
      },
      "source": [
        "**DecisionTree Model**"
      ]
    },
    {
      "cell_type": "code",
      "metadata": {
        "_uuid": "5b66cede005b80b15db98dadfe25453f79cff61c",
        "id": "nAcvwcsS6dxR",
        "colab": {
          "base_uri": "https://localhost:8080/"
        },
        "outputId": "00a9d9e3-7ec3-4257-b9f3-c146cbde8e58"
      },
      "source": [
        "dt_clf = DecisionTreeClassifier()\n",
        "dt_clf.fit(X_training, y_training)\n",
        "pred_dt = dt_clf.predict(X_valid)\n",
        "acc_dt = accuracy_score(y_valid, pred_dt)\n",
        "\n",
        "print(acc_dt)"
      ],
      "execution_count": null,
      "outputs": [
        {
          "output_type": "stream",
          "text": [
            "0.770949720670391\n"
          ],
          "name": "stdout"
        }
      ]
    },
    {
      "cell_type": "markdown",
      "metadata": {
        "_uuid": "4a010eb3bd4a277eb2aa21fb5a905b9f7e9a74a9",
        "id": "7QmfOGv-6dxT"
      },
      "source": [
        "**XGBoost Model**"
      ]
    },
    {
      "cell_type": "code",
      "metadata": {
        "_uuid": "986b1e492627eb16ab64ca42737be67bc401a8d2",
        "id": "bSoiSuEo6dxT",
        "colab": {
          "base_uri": "https://localhost:8080/"
        },
        "outputId": "1d0c05c7-2bc5-4092-e411-10369214c71d"
      },
      "source": [
        "from xgboost import XGBClassifier\n",
        "\n",
        "xg_clf = XGBClassifier(objective=\"binary:logistic\", n_estimators=10, seed=123)\n",
        "xg_clf.fit(X_training, y_training)\n",
        "pred_xg = xg_clf.predict(X_valid)\n",
        "acc_xg = accuracy_score(y_valid, pred_xg)\n",
        "\n",
        "print(acc_xg)"
      ],
      "execution_count": null,
      "outputs": [
        {
          "output_type": "stream",
          "text": [
            "0.7988826815642458\n"
          ],
          "name": "stdout"
        }
      ]
    },
    {
      "cell_type": "markdown",
      "metadata": {
        "_uuid": "adcda2b37a78d95205f14fbe4c580d4e0174088b",
        "id": "grfXEA6a6dxW"
      },
      "source": [
        "<a id=\"p7\"></a>\n",
        "# 7. Evaluating Model Performances\n",
        "After making so many models and predictions, we should evaluate and see which model performed the best and which model to use on our testing set."
      ]
    },
    {
      "cell_type": "code",
      "metadata": {
        "_uuid": "032b969ac47e3ea4fb7b77a0d43411f5184012ca",
        "id": "yy6vCiqA6dxX",
        "colab": {
          "base_uri": "https://localhost:8080/",
          "height": 284
        },
        "outputId": "41e64add-f39e-421c-d065-39bae0406231"
      },
      "source": [
        "model_performance = pd.DataFrame({\n",
        "    \"Model\": [\"SVC\", \"Linear SVC\", \"Random Forest\",\n",
        "              \"Logistic Regression\", \"K Nearest Neighbors\", \"Gaussian Naive Bayes\",\n",
        "              \"Decision Tree\", \"XGBClassifier\"],\n",
        "    \"Accuracy\": [acc_svc, acc_linsvc, acc_rf,\n",
        "              acc_logreg, acc_knn, acc_gnb, acc_dt, acc_xg]\n",
        "})\n",
        "\n",
        "model_performance.sort_values(by=\"Accuracy\", ascending=False)"
      ],
      "execution_count": null,
      "outputs": [
        {
          "output_type": "execute_result",
          "data": {
            "text/html": [
              "<div>\n",
              "<style scoped>\n",
              "    .dataframe tbody tr th:only-of-type {\n",
              "        vertical-align: middle;\n",
              "    }\n",
              "\n",
              "    .dataframe tbody tr th {\n",
              "        vertical-align: top;\n",
              "    }\n",
              "\n",
              "    .dataframe thead th {\n",
              "        text-align: right;\n",
              "    }\n",
              "</style>\n",
              "<table border=\"1\" class=\"dataframe\">\n",
              "  <thead>\n",
              "    <tr style=\"text-align: right;\">\n",
              "      <th></th>\n",
              "      <th>Model</th>\n",
              "      <th>Accuracy</th>\n",
              "    </tr>\n",
              "  </thead>\n",
              "  <tbody>\n",
              "    <tr>\n",
              "      <th>2</th>\n",
              "      <td>Random Forest</td>\n",
              "      <td>0.821229</td>\n",
              "    </tr>\n",
              "    <tr>\n",
              "      <th>3</th>\n",
              "      <td>Logistic Regression</td>\n",
              "      <td>0.798883</td>\n",
              "    </tr>\n",
              "    <tr>\n",
              "      <th>7</th>\n",
              "      <td>XGBClassifier</td>\n",
              "      <td>0.798883</td>\n",
              "    </tr>\n",
              "    <tr>\n",
              "      <th>5</th>\n",
              "      <td>Gaussian Naive Bayes</td>\n",
              "      <td>0.787709</td>\n",
              "    </tr>\n",
              "    <tr>\n",
              "      <th>1</th>\n",
              "      <td>Linear SVC</td>\n",
              "      <td>0.782123</td>\n",
              "    </tr>\n",
              "    <tr>\n",
              "      <th>6</th>\n",
              "      <td>Decision Tree</td>\n",
              "      <td>0.770950</td>\n",
              "    </tr>\n",
              "    <tr>\n",
              "      <th>4</th>\n",
              "      <td>K Nearest Neighbors</td>\n",
              "      <td>0.743017</td>\n",
              "    </tr>\n",
              "    <tr>\n",
              "      <th>0</th>\n",
              "      <td>SVC</td>\n",
              "      <td>0.726257</td>\n",
              "    </tr>\n",
              "  </tbody>\n",
              "</table>\n",
              "</div>"
            ],
            "text/plain": [
              "                  Model  Accuracy\n",
              "2         Random Forest  0.821229\n",
              "3   Logistic Regression  0.798883\n",
              "7         XGBClassifier  0.798883\n",
              "5  Gaussian Naive Bayes  0.787709\n",
              "1            Linear SVC  0.782123\n",
              "6         Decision Tree  0.770950\n",
              "4   K Nearest Neighbors  0.743017\n",
              "0                   SVC  0.726257"
            ]
          },
          "metadata": {
            "tags": []
          },
          "execution_count": 39
        }
      ]
    },
    {
      "cell_type": "markdown",
      "metadata": {
        "_uuid": "2155e211b1bcc8165f32b444a9122316d9d69e49",
        "id": "TY5LuZF56dxZ"
      },
      "source": [
        "It appears that the Random Forest model works the best with our data so we will use it on the test set."
      ]
    },
    {
      "cell_type": "markdown",
      "metadata": {
        "_uuid": "294ea2437eec87aa86cd6b4793c88aa374cbbcb2",
        "id": "2sGec2C-6dxZ"
      },
      "source": [
        "<a id=\"p8\"></a>\n",
        "# 8. Tuning Parameters with GridSearchCV"
      ]
    },
    {
      "cell_type": "markdown",
      "metadata": {
        "_uuid": "6e8feefac91cef0a68a90d6c99a498c8e7c0c220",
        "id": "_TumBm1_6dxb"
      },
      "source": [
        "We can improve the accuracy of our model by turning the hyperparameters of our Random Forest model. We will run a GridSearchCV to find the best parameters for the model and use that model to train and test our data."
      ]
    },
    {
      "cell_type": "code",
      "metadata": {
        "_uuid": "cee16030035d751cf9c011b562381e892f71835d",
        "id": "mFn0lelB6dxb",
        "colab": {
          "base_uri": "https://localhost:8080/",
          "height": 151
        },
        "outputId": "7aacbc51-49db-4b3b-f7ac-a49b3af7483e"
      },
      "source": [
        "rf_clf = RandomForestClassifier()\n",
        "\n",
        "parameters = {\"n_estimators\": [4, 5, 6, 7, 8, 9, 10, 15],\n",
        "              \"criterion\": [\"gini\", \"entropy\"],\n",
        "              \"max_features\": [\"auto\", \"sqrt\", \"log2\"],\n",
        "              \"max_depth\": [2, 3, 5, 10],\n",
        "              \"min_samples_split\": [2, 3, 5, 10],\n",
        "              \"min_samples_leaf\": [1, 5, 8, 10]\n",
        "             }\n",
        "\n",
        "grid_cv = GridSearchCV(rf_clf, parameters, scoring = make_scorer(accuracy_score))\n",
        "grid_cv = grid_cv.fit(X_train, y_train)\n",
        "\n",
        "print(\"Our optimized Random Forest model is:\")\n",
        "grid_cv.best_estimator_"
      ],
      "execution_count": null,
      "outputs": [
        {
          "output_type": "stream",
          "text": [
            "Our optimized Random Forest model is:\n"
          ],
          "name": "stdout"
        },
        {
          "output_type": "execute_result",
          "data": {
            "text/plain": [
              "RandomForestClassifier(bootstrap=True, class_weight=None, criterion='entropy',\n",
              "                       max_depth=10, max_features='sqrt', max_leaf_nodes=None,\n",
              "                       min_impurity_decrease=0.0, min_impurity_split=None,\n",
              "                       min_samples_leaf=5, min_samples_split=2,\n",
              "                       min_weight_fraction_leaf=0.0, n_estimators=6,\n",
              "                       n_jobs=None, oob_score=False, random_state=None,\n",
              "                       verbose=0, warm_start=False)"
            ]
          },
          "metadata": {
            "tags": []
          },
          "execution_count": 40
        }
      ]
    },
    {
      "cell_type": "markdown",
      "metadata": {
        "_uuid": "9a59fc2e5923c0f0862a17c8994be909b4e3c8e5",
        "id": "18tIakDZ6dxe"
      },
      "source": [
        "Great, now that we have the optimal parameters for our Random Forest model, we can build a new model with those parameters to fit and use on the test set."
      ]
    },
    {
      "cell_type": "code",
      "metadata": {
        "_uuid": "d06da79f1940ec20b1e5207649cfd1b36024fb9f",
        "id": "GBn4avpU6dxe",
        "colab": {
          "base_uri": "https://localhost:8080/",
          "height": 134
        },
        "outputId": "165323cf-f5aa-4242-cc86-fb5e02fdbe4d"
      },
      "source": [
        "rf_clf = grid_cv.best_estimator_\n",
        "\n",
        "rf_clf.fit(X_train, y_train)"
      ],
      "execution_count": null,
      "outputs": [
        {
          "output_type": "execute_result",
          "data": {
            "text/plain": [
              "RandomForestClassifier(bootstrap=True, class_weight=None, criterion='entropy',\n",
              "                       max_depth=10, max_features='sqrt', max_leaf_nodes=None,\n",
              "                       min_impurity_decrease=0.0, min_impurity_split=None,\n",
              "                       min_samples_leaf=5, min_samples_split=2,\n",
              "                       min_weight_fraction_leaf=0.0, n_estimators=6,\n",
              "                       n_jobs=None, oob_score=False, random_state=None,\n",
              "                       verbose=0, warm_start=False)"
            ]
          },
          "metadata": {
            "tags": []
          },
          "execution_count": 41
        }
      ]
    },
    {
      "cell_type": "markdown",
      "metadata": {
        "_uuid": "eb41e3a1cd4072d991b28899e8c0898410b706ac",
        "id": "ks65Aq1M6dxg"
      },
      "source": [
        "<a id=\"p9\"></a>\n",
        "# 9. Submission"
      ]
    },
    {
      "cell_type": "markdown",
      "metadata": {
        "_uuid": "6d75b5ea02c6830d422e23b6332dfc81ece3bf54",
        "id": "kFihueRI6dxg"
      },
      "source": [
        "Let's create a dataframe to submit to the competition with our predictions of our model."
      ]
    },
    {
      "cell_type": "code",
      "metadata": {
        "_uuid": "3f003a3580bc74e884ca1525421cffbf15f347b0",
        "id": "Vrpkh4_R6dxh"
      },
      "source": [
        "final_pred =rf_clf.predict(X_test)\n"
      ],
      "execution_count": null,
      "outputs": []
    },
    {
      "cell_type": "code",
      "metadata": {
        "_uuid": "1305526e29c632cec41f6f290382a25fcdd853c2",
        "id": "aCTpLi536dxi",
        "colab": {
          "base_uri": "https://localhost:8080/",
          "height": 402
        },
        "outputId": "741e46eb-7d90-455f-95f6-84f3af193fff"
      },
      "source": [
        "Final = pd.DataFrame({\n",
        "        \"PassengerId\": testing[\"PassengerId\"],\n",
        "        \"Survived\": submission_predictions\n",
        "    })\n",
        "\n",
        "Final\n"
      ],
      "execution_count": null,
      "outputs": [
        {
          "output_type": "execute_result",
          "data": {
            "text/html": [
              "<div>\n",
              "<style scoped>\n",
              "    .dataframe tbody tr th:only-of-type {\n",
              "        vertical-align: middle;\n",
              "    }\n",
              "\n",
              "    .dataframe tbody tr th {\n",
              "        vertical-align: top;\n",
              "    }\n",
              "\n",
              "    .dataframe thead th {\n",
              "        text-align: right;\n",
              "    }\n",
              "</style>\n",
              "<table border=\"1\" class=\"dataframe\">\n",
              "  <thead>\n",
              "    <tr style=\"text-align: right;\">\n",
              "      <th></th>\n",
              "      <th>PassengerId</th>\n",
              "      <th>Survived</th>\n",
              "    </tr>\n",
              "  </thead>\n",
              "  <tbody>\n",
              "    <tr>\n",
              "      <th>0</th>\n",
              "      <td>892</td>\n",
              "      <td>0</td>\n",
              "    </tr>\n",
              "    <tr>\n",
              "      <th>1</th>\n",
              "      <td>893</td>\n",
              "      <td>0</td>\n",
              "    </tr>\n",
              "    <tr>\n",
              "      <th>2</th>\n",
              "      <td>894</td>\n",
              "      <td>0</td>\n",
              "    </tr>\n",
              "    <tr>\n",
              "      <th>3</th>\n",
              "      <td>895</td>\n",
              "      <td>0</td>\n",
              "    </tr>\n",
              "    <tr>\n",
              "      <th>4</th>\n",
              "      <td>896</td>\n",
              "      <td>1</td>\n",
              "    </tr>\n",
              "    <tr>\n",
              "      <th>...</th>\n",
              "      <td>...</td>\n",
              "      <td>...</td>\n",
              "    </tr>\n",
              "    <tr>\n",
              "      <th>413</th>\n",
              "      <td>1305</td>\n",
              "      <td>0</td>\n",
              "    </tr>\n",
              "    <tr>\n",
              "      <th>414</th>\n",
              "      <td>1306</td>\n",
              "      <td>1</td>\n",
              "    </tr>\n",
              "    <tr>\n",
              "      <th>415</th>\n",
              "      <td>1307</td>\n",
              "      <td>0</td>\n",
              "    </tr>\n",
              "    <tr>\n",
              "      <th>416</th>\n",
              "      <td>1308</td>\n",
              "      <td>0</td>\n",
              "    </tr>\n",
              "    <tr>\n",
              "      <th>417</th>\n",
              "      <td>1309</td>\n",
              "      <td>1</td>\n",
              "    </tr>\n",
              "  </tbody>\n",
              "</table>\n",
              "<p>418 rows × 2 columns</p>\n",
              "</div>"
            ],
            "text/plain": [
              "     PassengerId  Survived\n",
              "0            892         0\n",
              "1            893         0\n",
              "2            894         0\n",
              "3            895         0\n",
              "4            896         1\n",
              "..           ...       ...\n",
              "413         1305         0\n",
              "414         1306         1\n",
              "415         1307         0\n",
              "416         1308         0\n",
              "417         1309         1\n",
              "\n",
              "[418 rows x 2 columns]"
            ]
          },
          "metadata": {
            "tags": []
          },
          "execution_count": 47
        }
      ]
    }
  ]
}